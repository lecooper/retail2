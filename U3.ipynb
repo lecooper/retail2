# -*- coding: utf-8 -*-
"""
Created on Fri Dec 27 03:29:09 2019

@author: Administrator
"""

import matplotlib.pyplot as plt
plt.rcParams['font.sans-serif']='SimHei'  
plt.rcParams['axes.unicode_minus']=False
import numpy as np   ##导入numpy，pandas，matplotlib.pyplot，os包
import pandas as pd
import matplotlib.pyplot as plt
import os
df1 = pd.read_csv('data1.csv',encoding='gbk')  ##读取学生ID表 df1 数据
df2= pd.read_csv('data2.csv',encoding='gbk')  ##读取消费记录表 df2 数据
df1.head()  
df2.head()  
df1.isnull().sum() ##检查 df1 是否有缺失值
df2.isnull().sum() ##检查 df2 是否有缺失值
df1.duplicated().sum() ##查看是否有重复值
df2.duplicated().sum() ##查看是否有重复值
df2['Date'] = pd.to_datetime(df2['Date'])#转换日期格式
df2.head()
df2['weekname'] = [i.weekday_name for i in  df2['Date']] ## 提取星期名称信息
df2
plt.scatter(df2['Index'], df2['Money'])#画图观察消费金额分布
plt.show()
datetimes=df2
datetimes=datetimes.set_index('Date')#重设索引 Date将日期定为索引
loc = datetimes.index.indexer_at_time('00:00:00')#提取特定时间点的消费数据
print(loc)
start_time = '00:00:00'
end_time = '06:00:00'
loc2 = datetimes.index.indexer_between_time(start_time, 
                                             end_time, 
                                             include_start=False,
                                             include_end=False)
df2_night=datetimes.iloc[loc2]#提取出时间位于0点至6点的消费数据
print("消费时间在0点至6点的消费数据量有：",df2_night.shape)
df2_night=df2_night.reset_index()  #还原索引
print("0点至6点消费的地点及频数为:\n",df2_night['Dept'].value_counts())
df2_outlier=[]
for i in range(len(df2_night)):
    word1 = "食堂"
    word2="基础课部"
    if word1 in df2_night.loc[i,'Dept']:
        df2_outlier.append(df2_night.loc[i,:])
    if word2 in df2_night.loc[i,'Dept']:
        df2_outlier.append(df2_night.loc[i,:])
df2_outlier=pd.DataFrame(df2_outlier)
print("消费地点异常的数据量有：",df2_outlier.shape)
new_df2 = df2[~ df2['Index'].isin(df2_outlier['Index'])]#在原表中删除异常数据的行
print("数据清洗完成后剩余的有效数据量为：",new_df2.shape)
new_df2.to_csv('task1_X.csv',encoding='gbk')
df_mer = pd.merge(new_df2,df1,left_on ='CardNo',right_on = 'CardNo')
df_mer
df_mer.to_csv('task1_1_X.csv',encoding='gbk')
new_df2['Dept'].value_counts()
p=[]
for i in ['第一食堂','第二食堂','第三食堂','第五食堂','第四食堂']:
    data31=new_df2.loc[(new_df2['Dept']==i),:]
    data41=data31.loc[(data31['hour'].apply(lambda x: x in [7, 8])),  :]
    datagb1=pd.pivot_table(data41[['Date','CardNo','Money']],index=data41[['Date','CardNo']],aggfunc=np.sum)
    p.append(datagb1.shape[0])
print(p)

任务二
df2['hour'] = df2['时间'].dt.hour  # 提取时
提取早中晚就餐数据
mor=[]
for i in ['第一食堂','第二食堂','第三食堂','第四食堂','第五食堂']:
    df1_1=new_df2.loc[(new_df2['Dept']==i),:]
    df1_2=df3_1.loc[(df2_1['hour'].apply(lambda x: x in [6,7,8,9，10)),  :] dba=pd.pivot_table(df3[['Date','CardNo','Money']],index=df2_1[['Date','CardNo']],aggfunc=np.sum)
    a.append(dba.shape[0])
print(mor)                           ##早上
for i in ['第一食堂','第二食堂','第三食堂','第四食堂','第五食堂']:
    df2_1=new_df2.loc[(new_df2['Dept']==i),:]
    df2_2=df3_2.loc[(df2_2['hour'].apply(lambda x: x in [11,12,13,14])),  :] dbb=pd.pivot_table(df3[['Date','CardNo','Money']],index=df2_2[['Date','CardNo']],aggfunc=np.sum)
q.append(aft.shape[0])      #中午
ev=[]
for i in ['第一食堂','第二食堂','第三食堂','第四食堂','第五食堂']:
    df3_1=new_df2.loc[(new_df2['Dept']==i),:]
    df3_2=df3_3.loc[(df2_3['hour'].apply(lambda x: x in ,16，17,18,19,20])),  :]  dbc=pd.pivot_table(df3[['Date','CardNo','Money']],index=df2_3[['Date','CardNo']],aggfunc=np.sum)
    ev.append(dbc.shape[0])
print(ev)         #晚上
fig=plt.figure(figsize=(15,10))     ##绘制早中晚就餐饼图
x=['第一食堂','第二食堂','第三食堂','第四食堂','第五食堂']
ax1=P.add_subplot(1,3,1)   设置1行3列画布
plt.pie(mor,labels=x,autopct='%.1f%%'])
plt.title('早上就餐饼图')
ax1=P.add_subplot(1,3,2)
plt.pie(aft,labels=x,autopct='%.1f%%')
plt.title('中午就餐饼图')
ax1=P.add_subplot(1,3,3)
plt.pie(ev,labels=x,autopct='%.2f%%')
plt.title('晚上就餐饼图')

df2['weekname'] = [i.weekday_name for i in  df2['Date']] ## 提取星期名称作为新的一列
weeken = data2.loc[(data2['day'].apply(lambda x: x in [5,6,7,13,14,20,21,27])),  :] #非工作日 #非工作日
weekday=data2.loc[(data2['day'].apply(lambda x: x in [1,2,3,4,8,9,10,11,12,15,16,17,18,19,22,23,24,25,26,28,29,30])),  :]#工作日 
idx1=['第一食堂']   ##工作日第一食堂就餐情况
df1_1=df2.loc[df2['Dept'].isin(index)]
for i in [1,2,3,4,8,9,10,11,12,15,16,17,18,19,22,23,24,25,26,28,29,30]:
df1_2=dfa.loc[(df1_1['day']==i),:] 
df1_3=['CardNo'].groupby(df1_2['hour']).count()
print(df1_3)
idx2=['第二食堂'] ##工作日第二食堂就餐情况
df2_1=df2.loc[df2['Dept'].isin(index)]
for i in [1,2,3,4,8,9,10,11,12,15,16,17,18,19,22,23,24,25,26,28,29,30]:
df2_2=dfa.loc[(df2_1['day']==i),:] 
df2_3=['CardNo'].groupby(df2_2['hour']).count()
print(df2_3)
idx3=['第三食堂'] ##工作日第三食堂就餐情况
df3_1=df2.loc[df2['Dept'].isin(index)]
for i in [1,2,3,4,8,9,10,11,12,15,16,17,18,19,22,23,24,25,26,28,29,30]:
df3_2=dfa.loc[(df3_1['day']==i),:] 
df3_3=['CardNo'].groupby(df3_2['hour']).count()
ide4=['第四食堂'] ##工作日第四食堂就餐情况
df4_1=df2.loc[df2['Dept'].isin(index)]
for i in [1,2,3,4,8,9,10,11,12,15,16,17,18,19,22,23,24,25,26,28,29,30]:
df4_2=dfa.loc[(df4_1['day']==i),:] 
df4_3=['CardNo'].groupby(df4_2['hour']).count()
print(df3_3)
idx5=['第五食堂']
df5_1=df2.loc[df2['Dept'].isin(index)]
for i in [1,2,3,4,8,9,10,11,12,15,16,17,18,19,22,23,24,25,26,28,29,30]:
df5_2=dfa.loc[(df5_1['day']==i),:] 
df5_3=['CardNo'].groupby(df5_2['hour']).count()
print(df5_3)
idx=['第一食堂']  ##非工作日第一食堂就餐情况
df1_a=df2.loc[df2'Dept'].isin(index)]
for i in [5,6,7,14,20,21,27]:
    df1_b=df1_a.loc[(df1_a['day']==i),:]
df1_c=df1_b['CardNo'].groupby(df1_b['hour']).count()
print(df1_c)
idx=['第二食堂'] ##非工作日第二食堂就餐情况
df2_a=df2.loc[df2'Dept'].isin(index)]
for i in [5,6,7,14,20,21,27]:
    df2_b=df2_a.loc[(df2_a['day']==i),:]
df2_c=df2_b['CardNo'].groupby(df2_b['hour']).count()
print(df2_c)
index=['第三食堂'] ##非工作日第三食堂就餐情况
df3_a=df2.loc[df2'Dept'].isin(index)]
for i in [5,6,7,14,20,21,27]:
    df3_b=df3_a.loc[(df3_a['day']==i),:]
df3_c=df3_b['CardNo'].groupby(df3_b['hour']).count()
print(df3_c)
idx=['第四食堂'] ##非工作日第四食堂就餐情况
df4_a=df2.loc[df2'Dept'].isin(index)]

任务三
stu_sum=len(df_mer['CardNo'].unique())#统计学生总人数
print('学生总人数：',stu_sum)
df_mer.count()#统计本月总刷卡频次)
shuaka_avg=240578/stu_sum #计算本月人均刷卡频次
print('本月人均刷卡频次：',shuaka_avg)
sum_money=df_mer['Money'].sum()#统计本月总消费金额
print('本月总消费金额：',sum_money)
money_avg=sum_money/stu_sum #计算本月人均消费金额
print('本月人均消费金额：',money_avg)
df_mer.groupby(['Major','Sex'])['Money'].sum()#不同专业不同性别消费总金额
a=df_mer.groupby(['Major','Sex'])['CardNo'].unique()#不同专业不同性别间的消费总人数
a
major_sex_stu=[]#提取不同专业性别间的消费总人数
for i in range(0,80):
    c= len(a[i])
    major_sex_stu.append(c)
print(major_sex_stu)
major_sex_money_avg=(df_mer.groupby(['Major','Sex'])['Money'].sum())/(major_sex_stu)
#不同专业不同性别间的人均消费金额
print(major_sex_money_avg)
major_sex_money_avg.sort_values()#不同专业不同性别本月平均消费金额升序
major_sex_money_avg.mean()#计算不同专业不同性别的本月消费金额均值
major_sex_money_avg.describe()#描述统计不同专业不同性别的个统计字段
plt.rcParams['font.sans-serif']='SimHei'      
plt.rcParams['axes.unicode_minus']=False
##绘制18产品艺术不同性别的人均消费金额柱状图
x=('女','男')
y=( 289.985000,312.686190)
plt.figure(figsize=(8,8))
plt.bar(x,y)
plt.xlabel('性别')
plt.ylabel('本月人均消费金额')
plt.title('18产品艺术')
for i in range(len(y)):
    plt.text(i,y[i],y[i],va='bottom',ha='center')



df3=df_mer.loc[df_mer['Dept'].str.contains('食堂')]#提取食堂的消费数据
df3['hour'] = df3['Date'].dt.hour  # 提取时
df3=df3[df3['hour'].isin(['6','7','8','9','10','11','12','13','16','17','18','19'])]#筛选早中晚餐数据
df3['餐段']=''
##根据就餐时间确定是早餐，午餐，或者晚餐，并赋值给新的一列
for i in range(6,10):
    df3.loc[(df3['hour']==i),'餐段']='早餐'
for i in range(10,14):
    df3.loc[(df3['hour']==i),'餐段']='午餐'
for i in range(16,20):
    df3.loc[(df3['hour']==i),'餐段']='晚餐'
df3.isnull().sum()##参考餐段是否有空值

m=df3[df3['餐段'].isin(['早餐'])]#计算每位学生早餐消费金额平均值
m=pd.pivot_table(m,index=['CardNo'],values=['Money'],aggfunc='mean')
n=df3[df3['餐段'].isin(['午餐'])]#计算每位学生午餐消费金额平均值
n=pd.pivot_table(n,index=['CardNo'],values=['Money'],aggfunc='mean')
d=df3[df3['餐段'].isin(['晚餐'])]#计算每位学生晚餐消费金额平均值
d=pd.pivot_table(d,index=['CardNo'],values=['Money'],aggfunc='mean')
c=pd.pivot_table(df3,index=['CardNo'],values=['Money'],aggfunc='count')#计算每位学生就餐频次
df4=pd.merge(m,n,how='inner',left_on ='CardNo',right_on = 'CardNo')
df4=pd.merge(df4,d,how='inner',left_on ='CardNo',right_on = 'CardNo')
df4=pd.merge(df4,c,how='inner',left_on ='CardNo',right_on = 'CardNo')
df4_col=['morning_data','noon_data','dinner_data','month_count']
df4.columns=df4_col
df4
from sklearn.cluster import KMeans
from sklearn.tree import DecisionTreeClassifier
import matplotlib.pyplot as plt
from sklearn.externals import joblib
from math import sqrt
#转化为数组
rfm_new = np.array(df4[['morning_data','noon_data','dinner_data','month_count']])
#设置随机数
seed=9
#对数据进行聚类
clf=KMeans(n_clusters=3,random_state=seed)
#拟合模型
clf=clf.fit(rfm_new)
#查看聚类质心点
clf.cluster_centers_
#对原数据表进行类别标记
df4['label']= clf.labels_
#查看标记后的数据
df4.head()
#计算每个类别的数据量
c=df4["label"].value_counts()
c
result=pd.DataFrame({'label':['customer0','customer1','customer2'],
                   'morning_data':[2.43566737, 2.01724953,1.81099004],
                   'noon_data':[5.89941361,4.60391443,3.21362781],
                   'dinner_data':[5.83936426,4.82175317,3.53900944],
                   'month_count':[35.78763441,75.00328138,123.55748373]})
result
def result_pic(result):
    # 解析出类别标签和种类
    labels = ['morning_data','noon_data','dinner_data','month_count']
    kinds = list(result.iloc[:,0])    
    # 由于在雷达图中，要保证数据闭合，这里就再添加morning_data列，并转换为 np.ndarray
    result = pd.concat([result, result[['morning_data']]], axis=1)
    centers = np.array(result.iloc[:,1:])  
    # 分割圆周长，并让其闭合
    n = len(labels)
    angle = np.linspace(0, 2 * np.pi, n, endpoint=False)
    angle = np.concatenate((angle, [angle[0]]))
    # 绘图
    fig = plt.figure(figsize=(10,10))
    ax = fig.add_subplot(111, polar=True)    # 参数polar, 以极坐标的形式绘制图形
    # 画线
    for i in range(len(kinds)):
        ax.plot(angle, centers[i], linewidth=2, label=kinds[i])
       # ax.fill(angle, centers[i])  # 填充底色
    # 添加属性标签
    ax.set_thetagrids(angle * 180 / np.pi, labels)
    plt.title('different kind')
    plt.legend(loc='lower right')
    plt.show()
result_pic(result)

